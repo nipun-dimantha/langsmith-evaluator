{
  "nbformat": 4,
  "nbformat_minor": 0,
  "metadata": {
    "colab": {
      "provenance": [],
      "authorship_tag": "ABX9TyNr8yLTv2hdhjmcn1fqdN4u",
      "include_colab_link": true
    },
    "kernelspec": {
      "name": "python3",
      "display_name": "Python 3"
    },
    "language_info": {
      "name": "python"
    }
  },
  "cells": [
    {
      "cell_type": "markdown",
      "metadata": {
        "id": "view-in-github",
        "colab_type": "text"
      },
      "source": [
        "<a href=\"https://colab.research.google.com/github/nipun-dimantha/langsmith-evaluator/blob/main/langsmith-evaluator.ipynb\" target=\"_parent\"><img src=\"https://colab.research.google.com/assets/colab-badge.svg\" alt=\"Open In Colab\"/></a>"
      ]
    },
    {
      "cell_type": "code",
      "execution_count": 1,
      "metadata": {},
      "outputs": [],
      "source": [
        "!pip install -U langsmith openevals openai"
      ]
    },
    {
      "cell_type": "code",
      "execution_count": 2,
      "metadata": {},
      "outputs": [],
      "source": [
        "import os\n",
        "os.environ[\"LANGSMITH_TRACING\"] = \"true\"\n",
        "os.environ[\"LANGSMITH_ENDPOINT\"] = \"https://eu.api.smith.langchain.com\"\n",
        "os.environ[\"LANGSMITH_API_KEY\"] = \"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\"\n",
        "os.environ[\"OPENAI_API_KEY\"] = \"\"  # <-- Set your OpenAI API Key here"
      ]
    },
    {
      "cell_type": "code",
      "execution_count": 3,
      "metadata": {},
      "outputs": [],
      "source": [
        "from langsmith import Client, wrappers\n",
        "from openevals.llm import create_llm_as_judge\n",
        "from openevals.prompts import CORRECTNESS_PROMPT\n",
        "from openai import OpenAI"
      ]
    },
    {
      "cell_type": "code",
      "execution_count": 4,
      "metadata": {},
      "outputs": [],
      "source": [
        "# Define the input and reference output pairs that you'll use to evaluate your app\n",
        "client = Client()\n",
        "\n",
        "# Create the dataset\n",
        "dataset = client.create_dataset(\n",
        "    dataset_name=\"Sample dataset II\", description=\"A sample dataset in LangSmith.\"\n",
        ")\n",
        "\n",
        "# Create examples in the dataset. Examples consist of inputs and reference outputs\n",
        "examples = [\n",
        "    {\n",
        "        \"inputs\": {\"question\": \"Which country is Mount Kilimanjaro located in?\"},\n",
        "        \"outputs\": {\"answer\": \"Mount Kilimanjaro is located in Tanzania.\"},\n",
        "    },\n",
        "    {\n",
        "        \"inputs\": {\"question\": \"What is Earth's lowest point?\"},\n",
        "        \"outputs\": {\"answer\": \"Earth's lowest point is The Dead Sea.\"},\n",
        "    },\n",
        "]\n",
        "\n",
        "# Add the examples to the dataset\n",
        "client.create_examples(dataset_id=dataset.id, examples=examples)"
      ]
    },
    {
      "cell_type": "code",
      "execution_count": 5,
      "metadata": {},
      "outputs": [],
      "source": [
        "# Wrap the OpenAI client for LangSmith tracing\n",
        "openai_client = wrappers.wrap_openai(OpenAI())\n",
        "\n",
        "# Define the application logic you want to evaluate inside a target function. For example, this may be one LLM call that includes the new prompt you are testing, a part of your application or your end to end application\n",
        "# The SDK will automatically send the inputs from the dataset to your target function\n",
        "def target(inputs: dict) -> dict:\n",
        "    response = openai_client.chat.completions.create(\n",
        "        model=\"gpt-4o-mini\",\n",
        "        messages=[\n",
        "            {\"role\": \"system\", \"content\": \"Answer the following question accurately\"},\n",
        "            {\"role\": \"user\", \"content\": inputs[\"question\"]},\n",
        "        ],\n",
        "    )\n",
        "    return { \"answer\": response.choices[0].message.content.strip() }"
      ]
    },
    {
      "cell_type": "code",
      "execution_count": 6,
      "metadata": {},
      "outputs": [],
      "source": [
        "# Define an LLM as a judge evaluator to evaluate correctness of the output\n",
        "# Import a prebuilt evaluator prompt from openevals (https://github.com/langchain-ai/openevals) and create an evaluator.\n",
        "def correctness_evaluator(inputs: dict, outputs: dict, reference_outputs: dict):\n",
        "    evaluator = create_llm_as_judge(\n",
        "        prompt=CORRECTNESS_PROMPT,\n",
        "        model=\"openai:o3-mini\",\n",
        "        feedback_key=\"correctness\",\n",
        "    )\n",
        "    eval_result = evaluator(\n",
        "        inputs=inputs,\n",
        "        outputs=outputs,\n",
        "        reference_outputs=reference_outputs\n",
        "    )\n",
        "    return eval_result"
      ]
    },
    {
      "cell_type": "code",
      "execution_count": 7,
      "metadata": {},
      "outputs": [],
      "source": [
        "# After running the evaluation, a link will be provided to view the results in langsmith\n",
        "experiment_results = client.evaluate(\n",
        "    target,\n",
        "    data=\"Sample dataset II\",\n",
        "    evaluators=[\n",
        "        correctness_evaluator,\n",
        "        # you can add multiple evaluators here\n",
        "    ],\n",
        "    experiment_prefix=\"first-eval-in-langsmith\",\n",
        "    max_concurrency=2,\n",
        ")"
      ]
    }
  ]
}
